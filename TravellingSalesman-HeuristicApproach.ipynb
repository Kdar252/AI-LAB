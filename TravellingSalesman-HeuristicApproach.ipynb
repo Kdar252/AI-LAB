{
 "cells": [
  {
   "cell_type": "code",
   "execution_count": 2,
   "id": "e76f94de",
   "metadata": {},
   "outputs": [
    {
     "name": "stdout",
     "output_type": "stream",
     "text": [
      "Path: [0, 1, 3, 2, 0]\n",
      "Total Weight: 33\n"
     ]
    }
   ],
   "source": [
    "\n",
    "def tsp_nearest_neighbor(graph, start_vertex):\n",
    "    num_vertices = len(graph)\n",
    "    visited = [False] * num_vertices\n",
    "    visited[start_vertex] = True\n",
    "    path = [start_vertex]\n",
    "    total_weight = 0\n",
    "\n",
    "    current_vertex = start_vertex\n",
    "    for _ in range(num_vertices - 1):\n",
    "        nearest_neighbor = None\n",
    "        nearest_neighbor_weight = sys.maxsize\n",
    "\n",
    "        for neighbor in range(num_vertices):\n",
    "            if not visited[neighbor] and graph[current_vertex][neighbor] < nearest_neighbor_weight:\n",
    "                nearest_neighbor = neighbor\n",
    "                nearest_neighbor_weight = graph[current_vertex][neighbor]\n",
    "\n",
    "        path.append(nearest_neighbor)\n",
    "        total_weight += nearest_neighbor_weight\n",
    "        visited[nearest_neighbor] = True\n",
    "        current_vertex = nearest_neighbor\n",
    "\n",
    "    # Complete the cycle by returning to the start_vertex\n",
    "    path.append(start_vertex)\n",
    "    total_weight += graph[current_vertex][start_vertex]\n",
    "\n",
    "    return path, total_weight\n",
    "\n",
    "# Example usage:\n",
    "# Create a graph represented as a 2D matrix\n",
    "graph = [\n",
    "    [0, 2, 9, 10],\n",
    "    [1, 0, 6, 4],\n",
    "    [15, 7, 0, 8],\n",
    "    [6, 3, 12, 0]\n",
    "]\n",
    "\n",
    "start_vertex = 0\n",
    "path, total_weight = tsp_nearest_neighbor(graph, start_vertex)\n",
    "\n",
    "print(\"Path:\", path)\n",
    "print(\"Total Weight:\", total_weight)\n"
   ]
  },
  {
   "cell_type": "code",
   "execution_count": null,
   "id": "fc2039e5",
   "metadata": {},
   "outputs": [],
   "source": []
  }
 ],
 "metadata": {
  "kernelspec": {
   "display_name": "Python 3 (ipykernel)",
   "language": "python",
   "name": "python3"
  },
  "language_info": {
   "codemirror_mode": {
    "name": "ipython",
    "version": 3
   },
   "file_extension": ".py",
   "mimetype": "text/x-python",
   "name": "python",
   "nbconvert_exporter": "python",
   "pygments_lexer": "ipython3",
   "version": "3.9.13"
  }
 },
 "nbformat": 4,
 "nbformat_minor": 5
}
